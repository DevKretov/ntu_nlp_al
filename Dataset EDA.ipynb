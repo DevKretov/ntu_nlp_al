{
 "cells": [
  {
   "cell_type": "code",
   "execution_count": 9,
   "id": "714bfdd2-ff3a-4289-8357-96e8c7008041",
   "metadata": {},
   "outputs": [],
   "source": [
    "import pandas as pd\n",
    "import numpy as np\n",
    "\n",
    "from pathlib import Path\n",
    "\n",
    "from sklearn.model_selection import train_test_split\n",
    "\n",
    "import seaborn as sns\n",
    "import matplotlib.pyplot as plt"
   ]
  },
  {
   "cell_type": "code",
   "execution_count": 2,
   "id": "024597c0-77cc-4a8e-95af-005ecb15ac44",
   "metadata": {},
   "outputs": [
    {
     "data": {
      "text/plain": [
       "True"
      ]
     },
     "execution_count": 2,
     "metadata": {},
     "output_type": "execute_result"
    }
   ],
   "source": [
    "dataset_csv_path = Path('data/news/20newsgroup_preprocessed.csv')\n",
    "\n",
    "dataset_csv_path.is_file()"
   ]
  },
  {
   "cell_type": "code",
   "execution_count": 3,
   "id": "a0819697-0733-4075-bea6-8774a8ad798c",
   "metadata": {},
   "outputs": [],
   "source": [
    "df = pd.read_csv(dataset_csv_path, delimiter=';')"
   ]
  },
  {
   "cell_type": "markdown",
   "id": "6a82395d-93f7-42dd-827d-bf8cecfc82b9",
   "metadata": {},
   "source": [
    "## EDA"
   ]
  },
  {
   "cell_type": "code",
   "execution_count": 4,
   "id": "bafaa3b3-30ee-4be1-92a5-34b65d195234",
   "metadata": {},
   "outputs": [
    {
     "data": {
      "text/html": [
       "<div>\n",
       "<style scoped>\n",
       "    .dataframe tbody tr th:only-of-type {\n",
       "        vertical-align: middle;\n",
       "    }\n",
       "\n",
       "    .dataframe tbody tr th {\n",
       "        vertical-align: top;\n",
       "    }\n",
       "\n",
       "    .dataframe thead th {\n",
       "        text-align: right;\n",
       "    }\n",
       "</style>\n",
       "<table border=\"1\" class=\"dataframe\">\n",
       "  <thead>\n",
       "    <tr style=\"text-align: right;\">\n",
       "      <th></th>\n",
       "      <th>target</th>\n",
       "      <th>text</th>\n",
       "      <th>text_cleaned</th>\n",
       "    </tr>\n",
       "  </thead>\n",
       "  <tbody>\n",
       "    <tr>\n",
       "      <th>0</th>\n",
       "      <td>alt.atheism</td>\n",
       "      <td>From: mathew &lt;mathew@mantis.co.uk&gt;\\nSubject: A...</td>\n",
       "      <td>atheist resources addresses atheist organizati...</td>\n",
       "    </tr>\n",
       "    <tr>\n",
       "      <th>1</th>\n",
       "      <td>alt.atheism</td>\n",
       "      <td>From: mathew &lt;mathew@mantis.co.uk&gt;\\nSubject: A...</td>\n",
       "      <td>begin pgp signed message introduction atheism ...</td>\n",
       "    </tr>\n",
       "    <tr>\n",
       "      <th>2</th>\n",
       "      <td>alt.atheism</td>\n",
       "      <td>From: I3150101@dbstu1.rz.tu-bs.de (Benedikt Ro...</td>\n",
       "      <td>article charley wingate writes well john quite...</td>\n",
       "    </tr>\n",
       "    <tr>\n",
       "      <th>3</th>\n",
       "      <td>alt.atheism</td>\n",
       "      <td>From: mathew &lt;mathew@mantis.co.uk&gt;\\nSubject: R...</td>\n",
       "      <td>kings become philosophers philosophers become ...</td>\n",
       "    </tr>\n",
       "    <tr>\n",
       "      <th>4</th>\n",
       "      <td>alt.atheism</td>\n",
       "      <td>From: strom@Watson.Ibm.Com (Rob Strom)\\nSubjec...</td>\n",
       "      <td>article bob mcgwier writes however hate econom...</td>\n",
       "    </tr>\n",
       "  </tbody>\n",
       "</table>\n",
       "</div>"
      ],
      "text/plain": [
       "        target                                               text  \\\n",
       "0  alt.atheism  From: mathew <mathew@mantis.co.uk>\\nSubject: A...   \n",
       "1  alt.atheism  From: mathew <mathew@mantis.co.uk>\\nSubject: A...   \n",
       "2  alt.atheism  From: I3150101@dbstu1.rz.tu-bs.de (Benedikt Ro...   \n",
       "3  alt.atheism  From: mathew <mathew@mantis.co.uk>\\nSubject: R...   \n",
       "4  alt.atheism  From: strom@Watson.Ibm.Com (Rob Strom)\\nSubjec...   \n",
       "\n",
       "                                        text_cleaned  \n",
       "0  atheist resources addresses atheist organizati...  \n",
       "1  begin pgp signed message introduction atheism ...  \n",
       "2  article charley wingate writes well john quite...  \n",
       "3  kings become philosophers philosophers become ...  \n",
       "4  article bob mcgwier writes however hate econom...  "
      ]
     },
     "execution_count": 4,
     "metadata": {},
     "output_type": "execute_result"
    }
   ],
   "source": [
    "df.head()"
   ]
  },
  {
   "cell_type": "code",
   "execution_count": 5,
   "id": "24a0e69c-e3c5-41bb-9c0c-0058381d59b9",
   "metadata": {},
   "outputs": [
    {
     "data": {
      "text/plain": [
       "Index(['target', 'text', 'text_cleaned'], dtype='object')"
      ]
     },
     "execution_count": 5,
     "metadata": {},
     "output_type": "execute_result"
    }
   ],
   "source": [
    "df.columns"
   ]
  },
  {
   "cell_type": "code",
   "execution_count": 6,
   "id": "816a902f-f85d-4374-b8de-6957011a670c",
   "metadata": {},
   "outputs": [
    {
     "name": "stdout",
     "output_type": "stream",
     "text": [
      "<class 'pandas.core.frame.DataFrame'>\n",
      "RangeIndex: 18828 entries, 0 to 18827\n",
      "Data columns (total 3 columns):\n",
      " #   Column        Non-Null Count  Dtype \n",
      "---  ------        --------------  ----- \n",
      " 0   target        18828 non-null  object\n",
      " 1   text          18828 non-null  object\n",
      " 2   text_cleaned  18792 non-null  object\n",
      "dtypes: object(3)\n",
      "memory usage: 441.4+ KB\n"
     ]
    }
   ],
   "source": [
    "df.info()"
   ]
  },
  {
   "cell_type": "code",
   "execution_count": 7,
   "id": "43d33b64-801d-44fb-ac49-f7fcccf2f26a",
   "metadata": {},
   "outputs": [],
   "source": [
    "text_column = 'text_cleaned'\n",
    "label_column = 'target'"
   ]
  },
  {
   "cell_type": "code",
   "execution_count": 39,
   "id": "51aa4c0a-049d-4e6f-8dcb-47257b792491",
   "metadata": {},
   "outputs": [],
   "source": [
    "df = df.drop_duplicates(text_column)\n",
    "df = df[df[text_column].map(lambda _text: isinstance(_text, str) and len(_text.strip()) > 0)]"
   ]
  },
  {
   "cell_type": "code",
   "execution_count": 40,
   "id": "3fd97326-97f3-41e9-a4d5-b1a2a21010ec",
   "metadata": {},
   "outputs": [
    {
     "data": {
      "image/png": "[encoded data removed]",
      "text/plain": [
       "<Figure size 1080x576 with 1 Axes>"
      ]
     },
     "metadata": {
      "needs_background": "light"
     },
     "output_type": "display_data"
    }
   ],
   "source": [
    "plt.figure(figsize = (15,8))\n",
    "ax = sns.histplot(df[label_column]);#.value_counts().plot(kind='bar');\n",
    "plt.xticks(rotation = 90);\n"
   ]
  },
  {
   "cell_type": "code",
   "execution_count": 41,
   "id": "5469330b-d1f8-4aa2-9c8e-44134d6e4359",
   "metadata": {},
   "outputs": [],
   "source": [
    "def reduce_label(label):\n",
    "    split_label = label.split('.')\n",
    "    if len(split_label) >= 1:\n",
    "        return '.'.join(split_label[:1])\n",
    "\n",
    "df['label_reduced'] = df[label_column].map(reduce_label)"
   ]
  },
  {
   "cell_type": "code",
   "execution_count": 42,
   "id": "0016c350-6edb-4284-b82f-f9d165c9d5d7",
   "metadata": {},
   "outputs": [
    {
     "data": {
      "image/png": "[encoded data removed]",
      "text/plain": [
       "<Figure size 1080x576 with 1 Axes>"
      ]
     },
     "metadata": {
      "needs_background": "light"
     },
     "output_type": "display_data"
    }
   ],
   "source": [
    "plt.figure(figsize = (15,8))\n",
    "ax = sns.histplot(df['label_reduced']);#.value_counts().plot(kind='bar');\n",
    "plt.xticks(rotation = 90);\n"
   ]
  },
  {
   "cell_type": "markdown",
   "id": "5655f1c7-cf13-4b04-847c-d7392c0bdf79",
   "metadata": {},
   "source": [
    "## Split datasets"
   ]
  },
  {
   "cell_type": "code",
   "execution_count": 49,
   "id": "2a56ed9a-5f64-4cf4-b164-d0e2db93911b",
   "metadata": {},
   "outputs": [
    {
     "name": "stdout",
     "output_type": "stream",
     "text": [
      "Lengths:   dataset_type  lengths\n",
      "0        train    13104\n",
      "1          val     2808\n",
      "2         test     2808\n"
     ]
    },
    {
     "data": {
      "image/png": "[encoded data removed]",
      "text/plain": [
       "<Figure size 432x288 with 1 Axes>"
      ]
     },
     "metadata": {
      "needs_background": "light"
     },
     "output_type": "display_data"
    }
   ],
   "source": [
    "X_train, X_test = train_test_split(\n",
    "    df,\n",
    "    test_size=0.3,\n",
    "    shuffle=True\n",
    ")\n",
    "\n",
    "X_val, X_test = train_test_split(\n",
    "    X_test,\n",
    "    test_size=0.5,\n",
    "    shuffle=True\n",
    ")\n",
    "\n",
    "\n",
    "lengths_df = pd.DataFrame.from_dict({\n",
    "    'train': [len(X_train)],\n",
    "    'val': [len(X_val)],\n",
    "    'test': [len(X_test)]\n",
    "})\n",
    "lengths_df = lengths_df.transpose().reset_index()\n",
    "lengths_df.columns = ['dataset_type', 'lengths']\n",
    "\n",
    "print(f'Lengths: {lengths_df}')\n",
    "\n",
    "sns.barplot(x='dataset_type', y='lengths', data=lengths_df);"
   ]
  },
  {
   "cell_type": "code",
   "execution_count": 50,
   "id": "45dd61e1-15b4-4a0d-a329-1c44bd302c71",
   "metadata": {},
   "outputs": [
    {
     "data": {
      "text/plain": [
       "array(['soc', 'comp', 'alt', 'talk', 'rec', 'sci', 'misc'], dtype=object)"
      ]
     },
     "execution_count": 50,
     "metadata": {},
     "output_type": "execute_result"
    }
   ],
   "source": [
    "X_train[label_column].unique()"
   ]
  },
  {
   "cell_type": "code",
   "execution_count": 51,
   "id": "ed0f2d67-3533-4886-a6e3-a20087d6aeae",
   "metadata": {},
   "outputs": [
    {
     "data": {
      "image/png": "[encoded data removed]",
      "text/plain": [
       "<Figure size 1296x864 with 3 Axes>"
      ]
     },
     "metadata": {
      "needs_background": "light"
     },
     "output_type": "display_data"
    }
   ],
   "source": [
    "label_column = 'label_reduced'\n",
    "\n",
    "unique_values = sorted(X_train[label_column].unique())\n",
    "\n",
    "X_train[label_column] = pd.Categorical(X_train[label_column], unique_values)\n",
    "X_val[label_column] = pd.Categorical(X_val[label_column], unique_values)\n",
    "X_test[label_column] = pd.Categorical(X_test[label_column], unique_values)\n",
    "\n",
    "sns.set_palette(\"Paired\")\n",
    "f, axs = plt.subplots(3, 1, figsize=(18, 12), gridspec_kw=dict(height_ratios=[6, 6, 6]))\n",
    "sns.histplot(data=X_train[label_column], ax=axs[0])\n",
    "axs[0].set_title('Train dataset class distribution')\n",
    "sns.histplot(data=X_val[label_column], ax=axs[1])\n",
    "axs[1].set_title('Val dataset class distribution')\n",
    "sns.histplot(data=X_test[label_column], ax=axs[2])\n",
    "axs[2].set_title('Test dataset class distribution')\n",
    "\n",
    "axs[0].tick_params(rotation=90)\n",
    "axs[1].tick_params(rotation=90)\n",
    "axs[2].tick_params(rotation=90)\n",
    "\n",
    "\n",
    "f.tight_layout()\n",
    "\n",
    "\n",
    "# X_train['airline_sentiment'].value_counts().plot(kind='bar');"
   ]
  },
  {
   "cell_type": "code",
   "execution_count": 52,
   "id": "6aba0501-9e9b-4bca-aeba-31ebf5985e89",
   "metadata": {},
   "outputs": [],
   "source": [
    "X_train = X_train[[label_column, text_column]].reset_index(drop=True)\n",
    "X_val = X_val[[label_column, text_column]].reset_index(drop=True)\n",
    "X_test = X_test[[label_column, text_column]].reset_index(drop=True)\n",
    "\n",
    "save_path = dataset_csv_path.parent\n",
    "\n",
    "\n",
    "X_train.to_csv(save_path /'train.csv', header=True, index=False)\n",
    "X_val.to_csv(save_path / 'val.csv', header=True, index=False)\n",
    "X_test.to_csv(save_path / 'test.csv', header=True, index=False)"
   ]
  },
  {
   "cell_type": "code",
   "execution_count": 47,
   "id": "7a3fca7a-9c53-4d9a-9a85-a8595f6d98bd",
   "metadata": {},
   "outputs": [
    {
     "data": {
      "text/html": [
       "<div>\n",
       "<style scoped>\n",
       "    .dataframe tbody tr th:only-of-type {\n",
       "        vertical-align: middle;\n",
       "    }\n",
       "\n",
       "    .dataframe tbody tr th {\n",
       "        vertical-align: top;\n",
       "    }\n",
       "\n",
       "    .dataframe thead th {\n",
       "        text-align: right;\n",
       "    }\n",
       "</style>\n",
       "<table border=\"1\" class=\"dataframe\">\n",
       "  <thead>\n",
       "    <tr style=\"text-align: right;\">\n",
       "      <th></th>\n",
       "      <th>label_reduced</th>\n",
       "      <th>text_cleaned</th>\n",
       "    </tr>\n",
       "  </thead>\n",
       "  <tbody>\n",
       "    <tr>\n",
       "      <th>0</th>\n",
       "      <td>misc</td>\n",
       "      <td>hello package right thing planning short vacat...</td>\n",
       "    </tr>\n",
       "    <tr>\n",
       "      <th>1</th>\n",
       "      <td>talk</td>\n",
       "      <td>article jim de arras writes article dusek shal...</td>\n",
       "    </tr>\n",
       "    <tr>\n",
       "      <th>2</th>\n",
       "      <td>soc</td>\n",
       "      <td>dave bernard writes elizabeth greeted mary eli...</td>\n",
       "    </tr>\n",
       "    <tr>\n",
       "      <th>3</th>\n",
       "      <td>rec</td>\n",
       "      <td>michael collingridge writes subject captain ev...</td>\n",
       "    </tr>\n",
       "    <tr>\n",
       "      <th>4</th>\n",
       "      <td>comp</td>\n",
       "      <td>remember someone mention meg syquest anyone el...</td>\n",
       "    </tr>\n",
       "    <tr>\n",
       "      <th>...</th>\n",
       "      <td>...</td>\n",
       "      <td>...</td>\n",
       "    </tr>\n",
       "    <tr>\n",
       "      <th>2803</th>\n",
       "      <td>talk</td>\n",
       "      <td>article jack schmidling writes neither times t...</td>\n",
       "    </tr>\n",
       "    <tr>\n",
       "      <th>2804</th>\n",
       "      <td>talk</td>\n",
       "      <td>paul e reimer writes lot automobile accidents ...</td>\n",
       "    </tr>\n",
       "    <tr>\n",
       "      <th>2805</th>\n",
       "      <td>sci</td>\n",
       "      <td>article writes might look allergy doctor area ...</td>\n",
       "    </tr>\n",
       "    <tr>\n",
       "      <th>2806</th>\n",
       "      <td>comp</td>\n",
       "      <td>danny backx writes yes bug x r port xterm some...</td>\n",
       "    </tr>\n",
       "    <tr>\n",
       "      <th>2807</th>\n",
       "      <td>alt</td>\n",
       "      <td>article keith allan schneider writes jon lives...</td>\n",
       "    </tr>\n",
       "  </tbody>\n",
       "</table>\n",
       "<p>2808 rows × 2 columns</p>\n",
       "</div>"
      ],
      "text/plain": [
       "     label_reduced                                       text_cleaned\n",
       "0             misc  hello package right thing planning short vacat...\n",
       "1             talk  article jim de arras writes article dusek shal...\n",
       "2              soc  dave bernard writes elizabeth greeted mary eli...\n",
       "3              rec  michael collingridge writes subject captain ev...\n",
       "4             comp  remember someone mention meg syquest anyone el...\n",
       "...            ...                                                ...\n",
       "2803          talk  article jack schmidling writes neither times t...\n",
       "2804          talk  paul e reimer writes lot automobile accidents ...\n",
       "2805           sci  article writes might look allergy doctor area ...\n",
       "2806          comp  danny backx writes yes bug x r port xterm some...\n",
       "2807           alt  article keith allan schneider writes jon lives...\n",
       "\n",
       "[2808 rows x 2 columns]"
      ]
     },
     "execution_count": 47,
     "metadata": {},
     "output_type": "execute_result"
    }
   ],
   "source": [
    "X_test"
   ]
  },
  {
   "cell_type": "code",
   "execution_count": null,
   "id": "e16ba0be-def9-49d2-bfa8-1e59b20a139d",
   "metadata": {},
   "outputs": [],
   "source": []
  }
 ],
 "metadata": {
  "kernelspec": {
   "display_name": "Python 3 (ipykernel)",
   "language": "python",
   "name": "python3"
  },
  "language_info": {
   "codemirror_mode": {
    "name": "ipython",
    "version": 3
   },
   "file_extension": ".py",
   "mimetype": "text/x-python",
   "name": "python",
   "nbconvert_exporter": "python",
   "pygments_lexer": "ipython3",
   "version": "3.8.13"
  }
 },
 "nbformat": 4,
 "nbformat_minor": 5
}
